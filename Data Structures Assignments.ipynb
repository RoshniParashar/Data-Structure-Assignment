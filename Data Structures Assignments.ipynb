{
 "cells": [
  {
   "cell_type": "markdown",
   "id": "60ef283d-6e7b-48a0-81c9-e99f732221b5",
   "metadata": {
    "jp-MarkdownHeadingCollapsed": true,
    "tags": []
   },
   "source": [
    "### 1.) Discuss string slicing and provide examples"
   ]
  },
  {
   "cell_type": "code",
   "execution_count": 2,
   "id": "386811bf-04b7-4cee-a62b-0e06fc0bf7f0",
   "metadata": {},
   "outputs": [
    {
     "name": "stdout",
     "output_type": "stream",
     "text": [
      "Hello\n"
     ]
    }
   ],
   "source": [
    "# String slicing in Python, allows you to extract a substring (a portion of a string) by specifying\n",
    "# a range of indices. \n",
    "# The general syntax for string slicing in Python is string[start:end:step]\n",
    "#Example \n",
    "s = \"Hello, World!\"\n",
    "print(s[0:5])  "
   ]
  },
  {
   "cell_type": "markdown",
   "id": "e04b679a-bfe9-4a41-ac4e-335aead4d73f",
   "metadata": {
    "jp-MarkdownHeadingCollapsed": true,
    "tags": []
   },
   "source": [
    "### 2.)Explain the key features of lists in Python"
   ]
  },
  {
   "cell_type": "code",
   "execution_count": 4,
   "id": "d0570acf-8baf-408f-a1e7-da45a32505ea",
   "metadata": {},
   "outputs": [],
   "source": [
    "# key features of python are as follows :\n",
    "#   * lists are ordered collection of items.\n",
    "#   * It is heterogenous in nature.\n",
    "#   *Lists are mutable , i.e, items can be changed after declaring.\n",
    "#   *Slicing can be done."
   ]
  },
  {
   "cell_type": "markdown",
   "id": "3e1ddbd6-07d6-4af6-be36-99c7743e51ea",
   "metadata": {
    "jp-MarkdownHeadingCollapsed": true,
    "tags": []
   },
   "source": [
    "### 3.) Describe how to access modify and delete elements in a list with examples"
   ]
  },
  {
   "cell_type": "code",
   "execution_count": 1,
   "id": "f2a9d403-416a-4f75-ad92-887c48b8144a",
   "metadata": {},
   "outputs": [
    {
     "name": "stdout",
     "output_type": "stream",
     "text": [
      "apple\n"
     ]
    }
   ],
   "source": [
    "# Access : Elements in a list are accessed using index numbers, starting from 0 for the first element. \n",
    "# You can also use negative indexing to access elements from the end of the list.\n",
    "my_list = ['apple', 'banana', 'cherry', 'date']\n",
    "print(my_list[0])   "
   ]
  },
  {
   "cell_type": "code",
   "execution_count": 2,
   "id": "61ed46c5-efbb-4f8e-99dc-9aac73d96d7c",
   "metadata": {},
   "outputs": [
    {
     "name": "stdout",
     "output_type": "stream",
     "text": [
      "['apple', 'banana', 'grape', 'date']\n"
     ]
    }
   ],
   "source": [
    "# Modify : You can modify elements in a list by assigning new values to specific indices or slices of the list.\n",
    "my_list = ['apple', 'banana', 'cherry', 'date']\n",
    "my_list[2] = 'grape'\n",
    "print(my_list)  "
   ]
  },
  {
   "cell_type": "code",
   "execution_count": 3,
   "id": "3b6f99fe-c4ef-4007-845d-0e6ff829c425",
   "metadata": {},
   "outputs": [
    {
     "name": "stdout",
     "output_type": "stream",
     "text": [
      "['apple', 'cherry', 'date']\n"
     ]
    }
   ],
   "source": [
    "# Delete : You can delete elements from a list using \n",
    "# several methods like del statement, remove() method, or pop() method.\n",
    "my_list = ['apple', 'banana', 'cherry', 'date']\n",
    "del my_list[1]        # Delete the element at index 1\n",
    "print(my_list)"
   ]
  },
  {
   "cell_type": "markdown",
   "id": "f37fdd62-755a-405c-9e0d-f4c43ccef9dd",
   "metadata": {
    "jp-MarkdownHeadingCollapsed": true,
    "tags": []
   },
   "source": [
    "### 4.) Compare and contrast tuples and lists with examples"
   ]
  },
  {
   "cell_type": "code",
   "execution_count": 5,
   "id": "14e3e08b-0661-444b-9981-e6602d83ed8b",
   "metadata": {},
   "outputs": [
    {
     "ename": "SyntaxError",
     "evalue": "invalid syntax (2560859081.py, line 19)",
     "output_type": "error",
     "traceback": [
      "\u001b[0;36m  Cell \u001b[0;32mIn[5], line 19\u001b[0;36m\u001b[0m\n\u001b[0;31m    *Tuples are immutable, meaning once a tuple is created, you cannot change its values.\u001b[0m\n\u001b[0m            ^\u001b[0m\n\u001b[0;31mSyntaxError\u001b[0m\u001b[0;31m:\u001b[0m invalid syntax\n"
     ]
    }
   ],
   "source": [
    "# Tuples and lists are both fundamental data structures in Python, \n",
    "# but they have some key differences in terms of their characteristics, usage, and behavior. \n",
    "\n",
    "# Similarities:\n",
    "# * Both tuples and lists are sequential collections of items, meaning they maintain \n",
    "# the order of elements as they are inserted.\n",
    "# *Elements in both tuples and lists can be accessed using index numbers, and they support iteration through loops (e.g., for loops).\n",
    "# *Both tuples and lists can contain elements of different data types \n",
    "# (e.g., integers, floats, strings, other tuples/lists, etc.).\n",
    "\n",
    "# Differences:\n",
    "# * Lists are mutable, meaning you can change, add, or remove elements after the list is created.\n",
    "# my_list = [1, 2, 3]\n",
    "# my_list[1] = 10\n",
    "# my_list.append(4) \n",
    "# del my_list[0]    \n",
    "\n",
    "*Tuples are immutable, meaning once a tuple is created, you cannot change its values. \n",
    "You can, however, create a new tuple with updated values.\n",
    "my_tuple = (1, 2, 3)"
   ]
  },
  {
   "cell_type": "markdown",
   "id": "06a905e9-b4fa-4c67-87bf-79532a984076",
   "metadata": {},
   "source": [
    "### 5.)Describe the key features of sets and provide examples of their use\n"
   ]
  },
  {
   "cell_type": "code",
   "execution_count": null,
   "id": "eb381cc3-e0e2-4be5-b972-e4a40588609c",
   "metadata": {},
   "outputs": [],
   "source": [
    "# # Key features of sets are described below :\n",
    "# * Sets are unordered and unique collection of elements.\n",
    "# * Duplicate elements are notallowed in sets.\n",
    "# * Slicing cannot be done in sets.\n",
    "# * Sets are mutable in nature, i.e, items in set can be acceseed, modified and removed."
   ]
  },
  {
   "cell_type": "markdown",
   "id": "b4a58a50-dd76-46b1-80ed-0c3dbfea054a",
   "metadata": {},
   "source": [
    "### 6.) Discuss the use cases of tuples and sets in Python programming"
   ]
  },
  {
   "cell_type": "code",
   "execution_count": null,
   "id": "d9d324da-78d4-45c8-8812-78f89776fc56",
   "metadata": {},
   "outputs": [],
   "source": [
    "# There are many use cases of tuples few of them , are listed below :\n",
    "# * Immutable in nature.\n",
    "# * Generally tuples are faster than lists.\n",
    "# * Order and structure of data is maintained.\n",
    "# * It can return multiple values from functions.\n",
    "# * It can also be key in dictionaries.\n",
    "\n",
    "# There are many use cases of sets few of them , are listed below :\n",
    "# * It is needed for unique elements.\n",
    "# * Many unique operations like intersection,union,difference etc are performed using sets.\n",
    "# * It is used in filtering data.\n",
    "# * It is also used in removing duplicates."
   ]
  },
  {
   "cell_type": "markdown",
   "id": "e120a2e1-8ea0-47fb-ac23-1de9f6b5166e",
   "metadata": {},
   "source": [
    "### 7.)Describe how to add modify and delete items in a dictionary with examples.\n"
   ]
  },
  {
   "cell_type": "code",
   "execution_count": 6,
   "id": "095d8102-217a-4370-bc69-25841f9ec8ce",
   "metadata": {},
   "outputs": [
    {
     "name": "stdout",
     "output_type": "stream",
     "text": [
      "{'name': 'Alice', 'age': 30, 'city': 'New York'}\n"
     ]
    }
   ],
   "source": [
    "# To add an item to a dictionary, you assign a value to a new key \n",
    "# or update an existing key with a new value.\n",
    "# Creating an empty dictionary\n",
    "my_dict = {}\n",
    "my_dict['name'] = 'Alice'\n",
    "my_dict['age'] = 30\n",
    "my_dict['city'] = 'New York'\n",
    "print(my_dict)"
   ]
  },
  {
   "cell_type": "code",
   "execution_count": 7,
   "id": "b3c5ce58-38d7-4e13-85e7-43f6cc495a02",
   "metadata": {},
   "outputs": [
    {
     "name": "stdout",
     "output_type": "stream",
     "text": [
      "{'name': 'Alice', 'age': 32, 'city': 'San Francisco'}\n"
     ]
    }
   ],
   "source": [
    "# To modify an item in a dictionary, you simply reassign a new value to an existing key.\n",
    "my_dict['age'] = 32\n",
    "my_dict['city'] = 'San Francisco'\n",
    "print(my_dict)"
   ]
  },
  {
   "cell_type": "code",
   "execution_count": 8,
   "id": "92f3013b-b66f-4e40-8f47-2017ef769658",
   "metadata": {},
   "outputs": [
    {
     "name": "stdout",
     "output_type": "stream",
     "text": [
      "{'name': 'Alice', 'age': 32}\n"
     ]
    }
   ],
   "source": [
    "# To delete an item from a dictionary, you can use the del statement or the pop() method.\n",
    "del my_dict['city']    \n",
    "print(my_dict)        "
   ]
  },
  {
   "cell_type": "code",
   "execution_count": 9,
   "id": "58fb213c-982e-4924-96aa-f13284789dd6",
   "metadata": {},
   "outputs": [
    {
     "name": "stdout",
     "output_type": "stream",
     "text": [
      "32\n",
      "{'name': 'Alice'}\n"
     ]
    }
   ],
   "source": [
    "removed_age = my_dict.pop('age')  \n",
    "print(removed_age)     \n",
    "print(my_dict)  "
   ]
  },
  {
   "cell_type": "markdown",
   "id": "93a5784a-3d7e-431d-af1d-095734488ae4",
   "metadata": {},
   "source": [
    "### 8)Discuss the importance of dictionary keys belng immutable and provide examples"
   ]
  },
  {
   "cell_type": "code",
   "execution_count": null,
   "id": "e95357c5-5037-434f-bcad-393eb958d04d",
   "metadata": {},
   "outputs": [],
   "source": [
    "# Immutable dictionary keys in Python ensure fast and reliable data retrieval by\n",
    "# enforcing hashability and uniqueness. Examples include strings, integers, tuples, and frozen sets. \n",
    "# Mutable objects like lists cannot be used as dictionary keys due to their \n",
    "# inability to produce consistent hash values."
   ]
  }
 ],
 "metadata": {
  "kernelspec": {
   "display_name": "Python 3 (ipykernel)",
   "language": "python",
   "name": "python3"
  },
  "language_info": {
   "codemirror_mode": {
    "name": "ipython",
    "version": 3
   },
   "file_extension": ".py",
   "mimetype": "text/x-python",
   "name": "python",
   "nbconvert_exporter": "python",
   "pygments_lexer": "ipython3",
   "version": "3.10.8"
  }
 },
 "nbformat": 4,
 "nbformat_minor": 5
}
